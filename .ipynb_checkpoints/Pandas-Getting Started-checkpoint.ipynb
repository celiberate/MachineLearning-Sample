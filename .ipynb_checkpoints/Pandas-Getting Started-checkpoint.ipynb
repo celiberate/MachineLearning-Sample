{
 "cells": [
  {
   "cell_type": "markdown",
   "metadata": {},
   "source": [
    "# Getting Started with Pandas"
   ]
  },
  {
   "cell_type": "code",
   "execution_count": 166,
   "metadata": {},
   "outputs": [],
   "source": [
    "import pandas as pd\n",
    "import numpy as np"
   ]
  },
  {
   "cell_type": "markdown",
   "metadata": {},
   "source": [
    "<h2> We will stat with basic object creation in Pandas. There are 2-types of Objects</h2>\n",
    "    <ul>\n",
    "        <li>Series</li>\n",
    "        <li>DataFrames</li>\n",
    "     </ul>\n",
    "     \n",
    "<h3> Series <h3>\n",
    "\n",
    "Series are labelled 1-Dimensional array that can hold any data type ( integer, float, string, bool, objects)\n"
   ]
  },
  {
   "cell_type": "code",
   "execution_count": 115,
   "metadata": {},
   "outputs": [
    {
     "name": "stdout",
     "output_type": "stream",
     "text": [
      "1    0.350975\n",
      "2   -1.747198\n",
      "3    0.735294\n",
      "4   -0.422302\n",
      "5    1.637754\n",
      "dtype: float64\n",
      "1    A\n",
      "2    B\n",
      "dtype: object\n",
      "2      B\n",
      "3    NaN\n",
      "4    NaN\n",
      "dtype: object\n"
     ]
    }
   ],
   "source": [
    "#From numpy array\n",
    "ds = pd.Series(np.random.randn(5),index=[1,2,3,4,5])\n",
    "print(ds)\n",
    "\n",
    "#From dict\n",
    "ds1 = pd.Series({1:'A',2:'B'})\n",
    "print(ds1)\n",
    "\n",
    "#From dict - If index is passed, correspoding values from data is used.\n",
    "ds2 = pd.Series({1:'A',2:'B'}, index=[2,3,4])\n",
    "print(ds2)"
   ]
  },
  {
   "cell_type": "code",
   "execution_count": 124,
   "metadata": {},
   "outputs": [
    {
     "name": "stdout",
     "output_type": "stream",
     "text": [
      "0   2018-01-01\n",
      "1   2018-01-02\n",
      "2   2018-01-03\n",
      "3   2018-01-04\n",
      "4   2018-01-05\n",
      "5   2018-01-06\n",
      "6   2018-01-07\n",
      "Name: CalendarEntries, dtype: datetime64[ns]\n",
      "0   2018-01-01\n",
      "1   2018-01-02\n",
      "2   2018-01-03\n",
      "3   2018-01-04\n",
      "4   2018-01-05\n",
      "5   2018-01-06\n",
      "6   2018-01-07\n",
      "Name: DateWiseEntries, dtype: datetime64[ns]\n"
     ]
    },
    {
     "data": {
      "text/plain": [
       "0   2018-01-01\n",
       "1   2018-01-02\n",
       "2   2018-01-03\n",
       "3   2018-01-04\n",
       "4   2018-01-05\n",
       "5   2018-01-06\n",
       "6   2018-01-07\n",
       "Name: CalendarEntries, dtype: datetime64[ns]"
      ]
     },
     "execution_count": 124,
     "metadata": {},
     "output_type": "execute_result"
    }
   ],
   "source": [
    "# Series can have name of themselves as well\n",
    "indexes = pd.date_range('2018-01-01',periods=7)\n",
    "ds3 = pd.Series(indexes,name=\"CalendarEntries\")\n",
    "print(ds3)\n",
    "\n",
    "# Series name can be renamed and a new copy is created\n",
    "ds4 = ds3.rename('DateWiseEntries')\n",
    "print(ds4)\n",
    "\n",
    "# Changing ds4 values doesnt impact ds3, as it is a seperate copy\n",
    "ds4[2]=np.datetime64('2010-01-01')\n",
    "\n"
   ]
  },
  {
   "cell_type": "markdown",
   "metadata": {},
   "source": [
    "<h2> DataFrames </h2>\n",
    "\n",
    "DataFrames is a 2-dimensional labeled data structure with columns of potentially different types. A DataFrame can hold any number of columns of varied datatypes\n",
    "\n",
    "DataFrames can be created\n",
    "<ul>\n",
    "    <li>Dictionary of ndarrays,lists,dict,Series</li>\n",
    "    <li>Series</li>\n",
    "    <li>2-D numpy ndarrays</li>\n",
    "</ul>\n",
    "    "
   ]
  },
  {
   "cell_type": "code",
   "execution_count": 10,
   "metadata": {},
   "outputs": [
    {
     "data": {
      "text/html": [
       "<div>\n",
       "<style scoped>\n",
       "    .dataframe tbody tr th:only-of-type {\n",
       "        vertical-align: middle;\n",
       "    }\n",
       "\n",
       "    .dataframe tbody tr th {\n",
       "        vertical-align: top;\n",
       "    }\n",
       "\n",
       "    .dataframe thead th {\n",
       "        text-align: right;\n",
       "    }\n",
       "</style>\n",
       "<table border=\"1\" class=\"dataframe\">\n",
       "  <thead>\n",
       "    <tr style=\"text-align: right;\">\n",
       "      <th></th>\n",
       "      <th>Country</th>\n",
       "      <th>Rank</th>\n",
       "    </tr>\n",
       "  </thead>\n",
       "  <tbody>\n",
       "    <tr>\n",
       "      <th>0</th>\n",
       "      <td>INDIA</td>\n",
       "      <td>1</td>\n",
       "    </tr>\n",
       "    <tr>\n",
       "      <th>1</th>\n",
       "      <td>PAK</td>\n",
       "      <td>2</td>\n",
       "    </tr>\n",
       "    <tr>\n",
       "      <th>2</th>\n",
       "      <td>AUS</td>\n",
       "      <td>3</td>\n",
       "    </tr>\n",
       "  </tbody>\n",
       "</table>\n",
       "</div>"
      ],
      "text/plain": [
       "  Country  Rank\n",
       "0   INDIA     1\n",
       "1     PAK     2\n",
       "2     AUS     3"
      ]
     },
     "execution_count": 10,
     "metadata": {},
     "output_type": "execute_result"
    }
   ],
   "source": [
    "# Create a DataFrame using Dictionary\n",
    "df = pd.DataFrame({'Country':['INDIA','PAK','AUS'],\"Rank\":[1,2,3]})\n",
    "df"
   ]
  },
  {
   "cell_type": "code",
   "execution_count": 12,
   "metadata": {},
   "outputs": [
    {
     "data": {
      "text/html": [
       "<div>\n",
       "<style scoped>\n",
       "    .dataframe tbody tr th:only-of-type {\n",
       "        vertical-align: middle;\n",
       "    }\n",
       "\n",
       "    .dataframe tbody tr th {\n",
       "        vertical-align: top;\n",
       "    }\n",
       "\n",
       "    .dataframe thead th {\n",
       "        text-align: right;\n",
       "    }\n",
       "</style>\n",
       "<table border=\"1\" class=\"dataframe\">\n",
       "  <thead>\n",
       "    <tr style=\"text-align: right;\">\n",
       "      <th></th>\n",
       "      <th>Country</th>\n",
       "      <th>Rank</th>\n",
       "    </tr>\n",
       "  </thead>\n",
       "  <tbody>\n",
       "    <tr>\n",
       "      <th>0</th>\n",
       "      <td>INDIA</td>\n",
       "      <td>1</td>\n",
       "    </tr>\n",
       "    <tr>\n",
       "      <th>1</th>\n",
       "      <td>PAK</td>\n",
       "      <td>2</td>\n",
       "    </tr>\n",
       "    <tr>\n",
       "      <th>2</th>\n",
       "      <td>AUS</td>\n",
       "      <td>3</td>\n",
       "    </tr>\n",
       "  </tbody>\n",
       "</table>\n",
       "</div>"
      ],
      "text/plain": [
       "  Country  Rank\n",
       "0   INDIA     1\n",
       "1     PAK     2\n",
       "2     AUS     3"
      ]
     },
     "execution_count": 12,
     "metadata": {},
     "output_type": "execute_result"
    }
   ],
   "source": [
    "#Create a DataFrame using List of rows\n",
    "# If no column is provided, it gets default column indexing starting with 0, just like rows\n",
    "df = pd.DataFrame([['INDIA',1],['PAK',2],['AUS',3]], columns=['Country','Rank'])\n",
    "df"
   ]
  },
  {
   "cell_type": "code",
   "execution_count": 137,
   "metadata": {},
   "outputs": [
    {
     "name": "stdout",
     "output_type": "stream",
     "text": [
      "      First       two\n",
      "A -0.278737       NaN\n",
      "B  0.771435       NaN\n",
      "C -1.585859  0.232661\n",
      "D  1.821817  1.121534\n",
      "E       NaN -0.430927\n",
      "F       NaN -0.057222\n",
      "      First  two\n",
      "A -0.278737  NaN\n",
      "B  0.771435  NaN\n",
      "Y       NaN  NaN\n",
      "Z       NaN  NaN\n"
     ]
    }
   ],
   "source": [
    "# dict of Series\n",
    "\n",
    "d = {'First':pd.Series(np.random.randn(4),index=['A','B','C','D']),\n",
    "     'two':pd.Series(np.random.randn(4),index=['C','D','E','F'])}\n",
    "\n",
    "# index of series objects will be merged to form index of dataframe\n",
    "df = pd.DataFrame(d)\n",
    "print(df)\n",
    "#however, if dataframe provides its own index, index labels will be matched and \n",
    "#corresponding values from Series will be retained. Remember unlike list/arrays , Series are labelled\n",
    "\n",
    "df = pd.DataFrame(d,index=['A','B','Y','Z'])\n",
    "print(df)"
   ]
  },
  {
   "cell_type": "code",
   "execution_count": 147,
   "metadata": {},
   "outputs": [
    {
     "data": {
      "text/html": [
       "<div>\n",
       "<style scoped>\n",
       "    .dataframe tbody tr th:only-of-type {\n",
       "        vertical-align: middle;\n",
       "    }\n",
       "\n",
       "    .dataframe tbody tr th {\n",
       "        vertical-align: top;\n",
       "    }\n",
       "\n",
       "    .dataframe thead th {\n",
       "        text-align: right;\n",
       "    }\n",
       "</style>\n",
       "<table border=\"1\" class=\"dataframe\">\n",
       "  <thead>\n",
       "    <tr style=\"text-align: right;\">\n",
       "      <th></th>\n",
       "      <th>A</th>\n",
       "      <th>B</th>\n",
       "      <th>C</th>\n",
       "    </tr>\n",
       "  </thead>\n",
       "  <tbody>\n",
       "    <tr>\n",
       "      <th>0.661168</th>\n",
       "      <td>1</td>\n",
       "      <td>11</td>\n",
       "      <td>NaN</td>\n",
       "    </tr>\n",
       "    <tr>\n",
       "      <th>2.377579</th>\n",
       "      <td>2</td>\n",
       "      <td>22</td>\n",
       "      <td>NaN</td>\n",
       "    </tr>\n",
       "    <tr>\n",
       "      <th>-1.078890</th>\n",
       "      <td>3</td>\n",
       "      <td>33</td>\n",
       "      <td>NaN</td>\n",
       "    </tr>\n",
       "    <tr>\n",
       "      <th>1.224664</th>\n",
       "      <td>4</td>\n",
       "      <td>44</td>\n",
       "      <td>NaN</td>\n",
       "    </tr>\n",
       "  </tbody>\n",
       "</table>\n",
       "</div>"
      ],
      "text/plain": [
       "           A   B    C\n",
       " 0.661168  1  11  NaN\n",
       " 2.377579  2  22  NaN\n",
       "-1.078890  3  33  NaN\n",
       " 1.224664  4  44  NaN"
      ]
     },
     "execution_count": 147,
     "metadata": {},
     "output_type": "execute_result"
    }
   ],
   "source": [
    "#From dict of lists\n",
    "d = {'A':[1,2,3,4],'B':[11,22,33,44]}\n",
    "df = pd.DataFrame(d)\n",
    "df\n",
    "\n",
    "df = pd.DataFrame(d,index=np.random.randn(4), columns=('A','B','C'))\n",
    "df"
   ]
  },
  {
   "cell_type": "code",
   "execution_count": 29,
   "metadata": {},
   "outputs": [
    {
     "data": {
      "text/html": [
       "<div>\n",
       "<style scoped>\n",
       "    .dataframe tbody tr th:only-of-type {\n",
       "        vertical-align: middle;\n",
       "    }\n",
       "\n",
       "    .dataframe tbody tr th {\n",
       "        vertical-align: top;\n",
       "    }\n",
       "\n",
       "    .dataframe thead th {\n",
       "        text-align: right;\n",
       "    }\n",
       "</style>\n",
       "<table border=\"1\" class=\"dataframe\">\n",
       "  <thead>\n",
       "    <tr style=\"text-align: right;\">\n",
       "      <th></th>\n",
       "      <th>Country</th>\n",
       "      <th>Rank</th>\n",
       "      <th>Independent</th>\n",
       "    </tr>\n",
       "  </thead>\n",
       "  <tbody>\n",
       "    <tr>\n",
       "      <th>0</th>\n",
       "      <td>INDIA</td>\n",
       "      <td>1</td>\n",
       "      <td>True</td>\n",
       "    </tr>\n",
       "    <tr>\n",
       "      <th>1</th>\n",
       "      <td>PAK</td>\n",
       "      <td>2</td>\n",
       "      <td>None</td>\n",
       "    </tr>\n",
       "    <tr>\n",
       "      <th>2</th>\n",
       "      <td>AUS</td>\n",
       "      <td>3</td>\n",
       "      <td>None</td>\n",
       "    </tr>\n",
       "  </tbody>\n",
       "</table>\n",
       "</div>"
      ],
      "text/plain": [
       "  Country  Rank Independent\n",
       "0   INDIA     1        True\n",
       "1     PAK     2        None\n",
       "2     AUS     3        None"
      ]
     },
     "execution_count": 29,
     "metadata": {},
     "output_type": "execute_result"
    }
   ],
   "source": [
    "#If a sample has missing column values, It is assigned None (or NaN if numeric) by default\n",
    "df = pd.DataFrame([['INDIA',1,True],['PAK',2],['AUS',3]],columns=['Country','Rank','Independent'])\n",
    "df"
   ]
  },
  {
   "cell_type": "markdown",
   "metadata": {},
   "source": [
    "## Sorting a DataFrame\n",
    "\n",
    "- DataFrames can be sorted by index or values. \n",
    "\n",
    "When sorting by index, We need to specify axis. axis = 0 (by row index) and axis = 1 (by column index)\n",
    "\n",
    "When Sorting by value, We need to specify 'by = column name'"
   ]
  },
  {
   "cell_type": "code",
   "execution_count": 165,
   "metadata": {},
   "outputs": [
    {
     "name": "stdout",
     "output_type": "stream",
     "text": [
      "   Rank Independent Country\n",
      "0     1        True   INDIA\n",
      "1     2        None     PAK\n",
      "2     3        None     AUS \n",
      "   Country  Rank Independent\n",
      "0   INDIA     1        True\n",
      "1     PAK     2        None\n",
      "2     AUS     3        None\n"
     ]
    }
   ],
   "source": [
    "#If a sample has missing column values, It is assigned None (or NaN if numeric) by default\n",
    "df = pd.DataFrame([['INDIA',1,True],['PAK',2],['AUS',3]],columns=['Country','Rank','Independent'])\n",
    "df1 = df.sort_index(axis=1, ascending=False)\n",
    "df2 = df.sort_values(by='Rank', ascending=True)\n",
    "print(df1,\"\\n\",df2)"
   ]
  },
  {
   "cell_type": "markdown",
   "metadata": {},
   "source": [
    "## Selecting Values from dataframes\n"
   ]
  },
  {
   "cell_type": "code",
   "execution_count": null,
   "metadata": {},
   "outputs": [],
   "source": []
  }
 ],
 "metadata": {
  "kernelspec": {
   "display_name": "Python 3",
   "language": "python",
   "name": "python3"
  },
  "language_info": {
   "codemirror_mode": {
    "name": "ipython",
    "version": 3
   },
   "file_extension": ".py",
   "mimetype": "text/x-python",
   "name": "python",
   "nbconvert_exporter": "python",
   "pygments_lexer": "ipython3",
   "version": "3.7.0"
  }
 },
 "nbformat": 4,
 "nbformat_minor": 2
}
