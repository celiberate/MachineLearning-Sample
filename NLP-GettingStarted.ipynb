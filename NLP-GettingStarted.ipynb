{
 "cells": [
  {
   "cell_type": "markdown",
   "metadata": {},
   "source": [
    "## - This is basic NLP techniques tutorial.\n",
    "\n",
    "### - We will learn about\n",
    "    A. Word2Vec\n",
    "    B. Spacy\n",
    "    C. CosineSimilarity\n",
    "    D. Genesim/GloVE/CBOW - What are these?\n",
    "    E. Intent classification using NLP - \n",
    "    F. Support Vector Machines for classification and regression tasks\n",
    "    G. How RASA uses NLU for INtent identification"
   ]
  },
  {
   "cell_type": "markdown",
   "metadata": {},
   "source": [
    "## Getting Started\n",
    "\n",
    "- We have downloaded GloVE word embedding (6B words) which will provide vector representation of commonly used words. There are multiple word embeddings available like Facebook FastText, ELMO, Bag Of Words etc..\n",
    "\n",
    "- GLoVE emedding are available in 50-100-200 dimensions, and size on disk will vary accordingly."
   ]
  },
  {
   "cell_type": "markdown",
   "metadata": {},
   "source": [
    "# - so what is Word2Vec\n",
    "\n",
    "Word2Vec is a collection of models that take a corpus and produces vector embedding for words. GloVE is a pre-trained model and we can directly use vector embeddings in word2vec"
   ]
  },
  {
   "cell_type": "code",
   "execution_count": 155,
   "metadata": {},
   "outputs": [],
   "source": [
    "import numpy as np\n",
    "\n",
    "with open(\"./glove/glove.6B/glove.6B.50d.txt\", \"r\") as lines:\n",
    "    w2v = {line.split()[0]: np.array(line.split()[1:])\n",
    "           for line in lines}\n",
    "    "
   ]
  },
  {
   "cell_type": "markdown",
   "metadata": {},
   "source": [
    "We can look into vector represntation of any word available in the GloVE corpus.\n",
    "Every word is represented in a vector of size(50,)\n"
   ]
  },
  {
   "cell_type": "code",
   "execution_count": 161,
   "metadata": {},
   "outputs": [
    {
     "name": "stdout",
     "output_type": "stream",
     "text": [
      "['-0.0076543' '0.93456' '-0.73189' '-0.55162' '0.76977' '0.35925'\n",
      " '-1.1365' '-1.1632' '0.34214' '0.29145' '-0.8711' '0.9197' '-0.47069'\n",
      " '-0.22834' '1.4777' '-0.81714' '-0.17466' '-0.51093' '-0.28354' '0.23292'\n",
      " '0.71832' '0.23414' '0.49443' '0.35483' '0.76889' '-1.4374' '-1.7457'\n",
      " '-0.28994' '-0.10156' '-0.36959' '2.5502' '-1.0581' '-0.049416'\n",
      " '-0.25524' '-0.63303' '0.02671' '-0.18733' '0.20206' '-0.26288'\n",
      " '-0.41418' '0.83473' '-0.14227' '-0.28125' '0.098155' '-0.17096'\n",
      " '0.52408' '0.31851' '-0.089847' '-0.27223' '-0.0088736']\n",
      "['-0.27279' '0.77515' '-0.10181' '-0.9166' '0.90477' '-0.070501'\n",
      " '-0.47569' '0.44608' '0.1697' '0.072352' '-0.16306' '0.86852' '-0.76634'\n",
      " '-0.016103' '0.78492' '0.2952' '-0.74859' '0.2099' '0.65537' '-0.62334'\n",
      " '-0.43711' '1.1854' '0.47519' '0.0093866' '1.1377' '-2.4394' '-1.5619'\n",
      " '0.49001' '1.0985' '-0.97371' '3.4628' '1.0408' '-0.65138' '0.57189'\n",
      " '-0.12523' '0.26705' '0.16373' '0.41105' '0.7509' '-0.77923' '0.03638'\n",
      " '-0.28609' '-0.72365' '0.63511' '0.089441' '-0.30133' '0.36518'\n",
      " '-0.73367' '0.040383' '0.26657']\n",
      "['1.7306' '0.284' '-0.040613' '-0.087372' '-0.4819' '-0.4278' '-0.65733'\n",
      " '0.31632' '1.0554' '-0.70909' '0.57747' '0.3628' '-0.46717' '0.97844'\n",
      " '0.12695' '-0.39876' '-1.6432' '0.34616' '-1.9699' '-0.40326' '0.27543'\n",
      " '0.7005' '-0.24267' '-0.0042508' '0.34004' '-1.6021' '0.06427' '0.035409'\n",
      " '0.33291' '0.25677' '2.2611' '0.95595' '-0.55761' '-0.12359' '0.74087'\n",
      " '-0.47427' '0.89383' '-0.022107' '-0.38237' '0.87486' '-0.13263'\n",
      " '0.069306' '1.1166' '0.44355' '-0.84921' '0.039591' '0.34486' '0.34012'\n",
      " '-0.097281' '0.28005']\n"
     ]
    }
   ],
   "source": [
    "word1 = w2v['book']\n",
    "print(word1)\n",
    "\n",
    "\n",
    "word2 = w2v['my']\n",
    "print(word2)\n",
    "\n",
    "\n",
    "word3 = w2v['flight']\n",
    "print(word3)"
   ]
  },
  {
   "cell_type": "markdown",
   "metadata": {},
   "source": [
    "### - CosineSimilarity provides how similar words are to each other. This concept is used heavily in NLP especially intent classification.\n",
    "\n",
    "-- If 2 vectors are similar, there cosine similarity will be 1. If orthogonal to each other, cosine similarity will be 0.\n",
    "\n",
    "-- To understand this we need to learn linear algebra concepts - dot product of vectors and norm of vectors"
   ]
  },
  {
   "attachments": {
    "image.png": {
     "image/png": "[encoded data removed]"
    }
   },
   "cell_type": "markdown",
   "metadata": {},
   "source": [
    "![image.png](attachment:image.png)"
   ]
  },
  {
   "cell_type": "markdown",
   "metadata": {},
   "source": [
    "We can use sklearn or even write simple pytho code to calculate similarity between 2 word vectors. You can see if you provide very similar words like london and paris, they will have very high similarity closer to 1."
   ]
  },
  {
   "cell_type": "code",
   "execution_count": 69,
   "metadata": {},
   "outputs": [
    {
     "data": {
      "text/plain": [
       "array([[0.72943505]])"
      ]
     },
     "execution_count": 69,
     "metadata": {},
     "output_type": "execute_result"
    }
   ],
   "source": [
    "from sklearn.metrics.pairwise import cosine_similarity\n",
    "word1 = word1.reshape(1, -1);\n",
    "word2 = word2.reshape(1, -1);\n",
    "cosine_similarity(word1, word2)"
   ]
  },
  {
   "cell_type": "code",
   "execution_count": 157,
   "metadata": {},
   "outputs": [],
   "source": [
    "# spacy is a powerful library in Python for NLP tasks\n",
    "import spacy\n",
    "nlp = spacy.load(\"en\")"
   ]
  },
  {
   "cell_type": "markdown",
   "metadata": {},
   "source": [
    "# How do we find word embedding for a sentence??\n",
    "\n",
    "- We calculate embedding for each word and then average it to find word embedding for a sentence"
   ]
  },
  {
   "cell_type": "code",
   "execution_count": 198,
   "metadata": {},
   "outputs": [
    {
     "name": "stdout",
     "output_type": "stream",
     "text": [
      "[array([-0.36661 ,  1.0584  , -0.65378 ,  0.17674 ,  1.0605  , -0.72541 ,\n",
      "       -0.009721,  0.07969 , -0.4649  , -0.74347 , -0.64147 , -0.16837 ,\n",
      "       -0.48926 ,  0.56673 ,  0.73102 ,  0.18387 ,  0.34366 , -0.19158 ,\n",
      "        0.066052, -1.3434  ,  0.50813 , -0.21998 ,  0.46182 ,  0.65796 ,\n",
      "       -0.19109 , -0.6428  , -0.14994 ,  0.74716 , -0.23347 , -0.16557 ,\n",
      "        2.8593  ,  0.60577 , -0.63465 ,  0.45448 ,  0.14856 ,  0.53445 ,\n",
      "        0.27442 ,  1.0104  ,  0.079507, -0.44915 ,  0.46796 , -0.49001 ,\n",
      "       -0.20323 ,  0.65496 ,  0.16845 ,  0.50674 ,  0.62557 ,  0.071343,\n",
      "        0.61898 , -0.99744 ]), array([-1.0443e+00,  4.9202e-01, -7.5978e-01, -3.9224e-01,  8.1217e-01,\n",
      "       -3.9287e-02,  1.6706e-02, -6.8629e-01, -7.8359e-02, -1.3214e+00,\n",
      "       -1.5354e-01,  2.0438e-01, -4.6503e-01,  1.2145e+00, -1.8217e-01,\n",
      "        2.7451e-01, -2.4086e-01,  7.1145e-01,  3.2470e-01, -7.1320e-01,\n",
      "        6.6721e-01,  7.1307e-01, -1.0394e-01, -3.8439e-01, -2.0260e-01,\n",
      "       -1.4419e+00,  4.2644e-01,  5.9436e-01, -1.3615e+00,  1.3784e-03,\n",
      "        1.8734e+00, -1.1334e-01, -8.8115e-01, -2.1715e-01, -5.6606e-01,\n",
      "        1.4152e-01,  2.7673e-01,  9.9962e-01,  1.0567e+00, -2.9428e-01,\n",
      "       -3.1390e-01,  1.2729e-01, -5.4363e-01,  3.9652e-01, -3.2527e-01,\n",
      "        3.0536e-01,  1.5128e-01, -1.0889e+00, -2.0867e-01, -5.2605e-02]), array([ 7.5344e-01,  9.6383e-01,  1.0188e-01, -6.7978e-01,  3.8461e-01,\n",
      "        2.7779e-02, -3.0988e-01, -7.9104e-02,  4.1609e-01, -6.9129e-01,\n",
      "       -4.3769e-01,  1.7378e-01,  3.9337e-02,  6.4399e-01,  3.8474e-01,\n",
      "        1.0656e+00, -3.3480e-01,  3.2552e-01,  2.6685e-01, -5.6204e-01,\n",
      "        4.4660e-01,  1.2091e+00,  7.5209e-01,  3.0775e-02,  1.5676e-01,\n",
      "       -6.0153e-01, -2.7828e-01,  1.3081e+00,  9.5327e-01, -9.7407e-02,\n",
      "        2.3159e+00, -1.4026e-02,  2.2539e-03,  9.3128e-01,  2.7921e-01,\n",
      "        7.9418e-01,  6.1177e-01,  1.8765e-01,  1.3139e+00, -1.9539e-01,\n",
      "       -1.8425e-01, -1.7415e-02, -1.0331e-01,  7.6474e-01,  3.7840e-01,\n",
      "       -3.5513e-01,  2.7358e-01, -1.7427e+00,  2.9190e-01, -2.7653e-01]), array([-0.59975  ,  0.60015  ,  0.42511  , -0.050217 ,  1.1673   ,\n",
      "       -1.4684   , -0.082177 , -0.8382   ,  0.3401   , -1.643    ,\n",
      "       -1.1212   ,  0.85723  ,  0.0938   ,  1.5158   ,  0.35997  ,\n",
      "       -0.22727  , -1.3764   ,  0.43521  ,  0.47742  , -0.72925  ,\n",
      "        1.4517   ,  0.39791  , -0.0029784,  0.46954  ,  0.27475  ,\n",
      "       -1.2054   , -0.13067  ,  0.84512  , -0.25197  , -0.35738  ,\n",
      "        1.6405   ,  0.1392   ,  0.50613  ,  0.10175  , -0.40429  ,\n",
      "        0.53102  , -0.040779 ,  0.082832 ,  0.30468  , -0.52425  ,\n",
      "        0.49637  ,  0.39227  ,  0.61867  ,  0.42319  , -0.81392  ,\n",
      "        0.70688  ,  0.59538  , -0.49729  ,  0.44209  ,  0.27899  ]), array([-0.12335 ,  0.23509 , -0.7438  , -0.50219 ,  0.97023 , -0.12771 ,\n",
      "        0.039666, -0.67514 , -0.2298  , -1.2603  , -0.18912 ,  0.019617,\n",
      "       -0.096285,  1.3191  ,  0.31878 ,  1.3884  , -0.41529 ,  0.33527 ,\n",
      "        0.94093 , -0.50369 ,  0.37852 ,  1.104   , -0.41287 , -0.10135 ,\n",
      "       -0.59901 ,  0.060218, -0.21657 ,  1.5896  ,  0.57137 ,  0.061694,\n",
      "        0.66554 ,  0.39239 , -0.73251 ,  1.401   , -0.095607,  0.66528 ,\n",
      "        0.36132 , -0.014117,  0.068288, -0.62261 , -0.023754, -0.087556,\n",
      "        0.1543  ,  0.5651  , -1.0085  ,  0.065175,  0.2977  , -1.0227  ,\n",
      "       -0.21718 , -0.49374 ]), array([ 0.37854  ,  1.8233   , -1.2648   , -0.1043   ,  0.35829  ,\n",
      "        0.60029  , -0.17538  ,  0.83767  , -0.056798 , -0.75795  ,\n",
      "        0.22681  ,  0.98587  ,  0.60587  , -0.31419  ,  0.28877  ,\n",
      "        0.56013  , -0.77456  ,  0.071421 , -0.5741   ,  0.21342  ,\n",
      "        0.57674  ,  0.3868   , -0.12574  ,  0.28012  ,  0.28135  ,\n",
      "       -1.8053   , -1.0421   , -0.19255  , -0.55375  , -0.054526 ,\n",
      "        1.5574   ,  0.39296  , -0.2475   ,  0.34251  ,  0.45365  ,\n",
      "        0.16237  ,  0.52464  , -0.070272 , -0.83744  , -1.0326   ,\n",
      "        0.45946  ,  0.25302  , -0.17837  , -0.73398  , -0.20025  ,\n",
      "        0.2347   , -0.56095  , -2.2839   ,  0.0092753, -0.60284  ]), array([ 0.50451 ,  0.68607 , -0.59517 , -0.022801,  0.60046 , -0.13498 ,\n",
      "       -0.08813 ,  0.47377 , -0.61798 , -0.31012 , -0.076666,  1.493   ,\n",
      "       -0.034189, -0.98173 ,  0.68229 ,  0.81722 , -0.51874 , -0.31503 ,\n",
      "       -0.55809 ,  0.66421 ,  0.1961  , -0.13495 , -0.11476 , -0.30344 ,\n",
      "        0.41177 , -2.223   , -1.0756  , -1.0783  , -0.34354 ,  0.33505 ,\n",
      "        1.9927  , -0.04234 , -0.64319 ,  0.71125 ,  0.49159 ,  0.16754 ,\n",
      "        0.34344 , -0.25663 , -0.8523  ,  0.1661  ,  0.40102 ,  1.1685  ,\n",
      "       -1.0137  , -0.21585 , -0.15155 ,  0.78321 , -0.91241 , -1.6106  ,\n",
      "       -0.64426 , -0.51042 ]), array([-8.8123e-01,  8.2891e-01,  3.7694e-01,  4.4833e-01,  1.7482e-01,\n",
      "        1.1751e+00, -1.1878e+00,  1.5700e-01, -6.1533e-01, -6.4032e-01,\n",
      "       -5.4092e-01,  1.4348e+00, -5.5619e-01,  3.2093e-01,  5.3486e-01,\n",
      "        8.3639e-02,  5.6714e-01,  6.9777e-01, -5.9983e-01, -5.1282e-01,\n",
      "        4.1840e-01,  5.6947e-01,  6.0340e-01,  2.3695e-01,  3.4830e-01,\n",
      "       -1.3877e+00,  1.5486e-01, -6.3203e-02, -4.8972e-04, -2.3702e-01,\n",
      "        1.2318e+00, -7.8970e-01, -2.2067e-01, -1.0560e-01,  3.4888e-01,\n",
      "        1.2663e-01, -3.1450e-01, -3.6210e-01,  6.1272e-01, -8.3193e-01,\n",
      "        2.0834e-01,  9.4545e-01, -8.0578e-01, -5.7852e-01,  5.9549e-01,\n",
      "        1.7848e-01, -2.1407e-01, -6.3185e-01, -1.9556e-01,  7.9653e-01]), array([ 0.11008  , -0.38781  , -0.57615  , -0.27714  ,  0.70521  ,\n",
      "        0.53994  , -1.0786   , -0.40146  ,  1.1504   , -0.5678   ,\n",
      "        0.0038977,  0.52878  ,  0.64561  ,  0.47262  ,  0.48549  ,\n",
      "       -0.18407  ,  0.1801   ,  0.91397  , -1.1979   , -0.5778   ,\n",
      "       -0.37985  ,  0.33606  ,  0.772    ,  0.75555  ,  0.45506  ,\n",
      "       -1.7671   , -1.0503   ,  0.42566  ,  0.41893  , -0.68327  ,\n",
      "        1.5673   ,  0.27685  , -0.61708  ,  0.64638  , -0.076996 ,\n",
      "        0.37118  ,  0.1308   , -0.45137  ,  0.25398  , -0.74392  ,\n",
      "       -0.086199 ,  0.24068  , -0.64819  ,  0.83549  ,  1.2502   ,\n",
      "       -0.51379  ,  0.04224  , -0.88118  ,  0.7158   ,  0.38519  ]), array([-1.0387e+00, -3.3062e-01, -3.5274e-01,  1.6758e-02,  1.3653e+00,\n",
      "       -3.9483e-01, -4.2695e-01, -5.6003e-01, -4.3737e-01,  4.8581e-01,\n",
      "        7.2256e-02,  1.8256e-01, -2.9272e-01,  3.5757e-01,  2.2507e-01,\n",
      "       -2.2810e-01,  4.6153e-01, -7.2475e-01, -6.7386e-01, -4.6472e-01,\n",
      "        4.7643e-01, -1.0387e+00, -2.9868e-02, -2.7111e-01, -4.6532e-01,\n",
      "       -5.3439e-01,  7.5255e-01,  7.8374e-01,  1.2388e+00, -1.2289e+00,\n",
      "        1.5966e+00,  4.1244e-01,  1.2275e-01,  9.3894e-01,  2.1006e-01,\n",
      "        6.5685e-01, -7.4937e-01,  9.5685e-01,  6.9033e-01,  4.1726e-01,\n",
      "       -8.7322e-02,  4.1944e-01,  6.3815e-02,  8.2731e-04, -2.1711e-01,\n",
      "       -4.4964e-01,  9.8295e-01,  1.1662e-01,  9.0168e-01, -6.9025e-01]), array([ 0.61854 ,  0.11915 , -0.46786 ,  0.31368 ,  1.0334  ,  0.95964 ,\n",
      "        0.87803 , -1.0346  ,  1.6322  ,  0.29347 ,  0.80844 , -0.058903,\n",
      "        0.021251,  0.40986 ,  0.54443 , -0.33311 ,  0.53712 , -0.35823 ,\n",
      "        0.29374 ,  0.090151, -0.92049 ,  0.69386 ,  0.39098 , -0.64392 ,\n",
      "        0.77831 , -1.7215  , -0.48393 , -0.50327 , -0.22508 ,  0.099192,\n",
      "        3.2095  , -0.31554 , -0.71754 , -1.6752  , -1.3537  ,  0.15195 ,\n",
      "        0.054557, -0.1633  , -0.027993,  0.3917  , -0.55007 , -0.079205,\n",
      "        0.63389 ,  0.51446 ,  0.70124 ,  0.27638 , -0.53445 ,  0.064808,\n",
      "       -0.21974 , -0.52048 ])]\n"
     ]
    }
   ],
   "source": [
    "## - How to find word vector for a sentence. We need to average the word vectors for all words in a sentence.\n",
    "#sentences = [\"book my flight\",\"i am travelling to london\",\"need to visit to london\",\"book my travel\",\"i need to travel\"]\n",
    "sentences = [\"table\",\"chair\",\"bed\",\"desk\",\"sofa\",\"queen\",\"king\",\"jack\",\"dog\",\"basket\",\"human\"]\n",
    "listofsentenceembeddings = []\n",
    "for sentence in sentences:\n",
    "    word_tokens = nlp(sentence) # // NLP tokenization - splitting individual words as tokens \n",
    "    listofembeddings = []\n",
    "    for word in word_tokens:\n",
    "        listofembeddings.append(w2v[word.text])\n",
    "    #print(listofembeddings)\n",
    "    meanvec = sum(np.asarray(listofembeddings, dtype=float))/float(len(listofembeddings))\n",
    "    #print(meanvec)\n",
    "    listofsentenceembeddings.append(meanvec)\n",
    "print(listofsentenceembeddings)"
   ]
  },
  {
   "cell_type": "code",
   "execution_count": 199,
   "metadata": {},
   "outputs": [
    {
     "name": "stdout",
     "output_type": "stream",
     "text": [
      "[[-1.50425842  0.30360441]\n",
      " [-0.9707658   0.08077768]\n",
      " [-0.92568493 -0.45649868]\n",
      " [-2.07208372 -0.85545312]\n",
      " [-2.15763946 -1.38686237]\n",
      " [ 2.65959785 -2.05079768]\n",
      " [ 3.42344083 -1.43993259]\n",
      " [ 1.13706689 -0.53353488]\n",
      " [ 0.79827921  0.90548416]\n",
      " [-2.2259322   1.07552933]\n",
      " [ 1.83797975  4.35768373]]\n"
     ]
    },
    {
     "data": {
      "image/png": "[encoded data removed]",
      "text/plain": [
       "<Figure size 432x288 with 1 Axes>"
      ]
     },
     "metadata": {
      "needs_background": "light"
     },
     "output_type": "display_data"
    }
   ],
   "source": [
    "from sklearn.decomposition import PCA\n",
    "from matplotlib import pyplot as plt\n",
    "pca = PCA(n_components=2)\n",
    "listofsentenceembeddings_transformed = pca.fit_transform(listofsentenceembeddings)\n",
    "listofsentenceembeddings_transformed\n",
    "print(listofsentenceembeddings_transformed)\n",
    "x_coords = listofsentenceembeddings_transformed[:,0]\n",
    "y_coords = listofsentenceembeddings_transformed[:,1]\n",
    "plt.scatter(x_coords,y_coords, c=(0,0,0), alpha=0.5)\n",
    "plt.title('Scatter plot for similarity')\n",
    "\n",
    "\n",
    "for label, x, y in zip(sentences, x_coords, y_coords):\n",
    "    plt.annotate(label, xy=(x, y), xytext=(0, 0), textcoords='offset points')\n",
    "plt.xlim(x_coords.min()-0.00100, x_coords.max()+0.00100)\n",
    "plt.ylim(y_coords.min()-0.00100, y_coords.max()+0.00100)\n",
    "plt.show()\n",
    "    \n",
    "# plt.xlabel('x')\n",
    "# plt.ylabel('y')\n",
    "# plt.show()\n"
   ]
  },
  {
   "cell_type": "markdown",
   "metadata": {},
   "source": [
    "<h4> you can see similar words are getting closer to each other. Now we will use a SVM classifier to find the decision boundary to seperate each intent\n",
    " </h4>"
   ]
  },
  {
   "cell_type": "code",
   "execution_count": null,
   "metadata": {},
   "outputs": [],
   "source": []
  },
  {
   "cell_type": "markdown",
   "metadata": {},
   "source": [
    "## Backup Cells - Here we are trying to load GloVE embeddings into SpaCy. Spacy requires a particular format https://spacy.io/usage/vectors-similarity"
   ]
  },
  {
   "cell_type": "code",
   "execution_count": 65,
   "metadata": {},
   "outputs": [],
   "source": [
    "with open('./glove/vocab.txt', 'w') as f:\n",
    "    for key, value in w2v.items():\n",
    "        f.write('%s\\n' %(key))"
   ]
  },
  {
   "cell_type": "code",
   "execution_count": 66,
   "metadata": {},
   "outputs": [],
   "source": [
    "with open('./glove/vectors.50.d.bin', 'w') as f:\n",
    "    for key, value in w2v.items():\n",
    "        f.write('%s\\n' %(value))"
   ]
  },
  {
   "cell_type": "code",
   "execution_count": 67,
   "metadata": {},
   "outputs": [
    {
     "ename": "ValueError",
     "evalue": "cannot reshape array of size 26449183 into shape (528983,50)",
     "output_type": "error",
     "traceback": [
      "\u001b[0;31m---------------------------------------------------------------------------\u001b[0m",
      "\u001b[0;31mValueError\u001b[0m                                Traceback (most recent call last)",
      "\u001b[0;32m<ipython-input-67-42bb27388d9f>\u001b[0m in \u001b[0;36m<module>\u001b[0;34m\u001b[0m\n\u001b[1;32m      1\u001b[0m \u001b[0;32mimport\u001b[0m \u001b[0mspacy\u001b[0m\u001b[0;34m\u001b[0m\u001b[0;34m\u001b[0m\u001b[0m\n\u001b[1;32m      2\u001b[0m \u001b[0mnlp\u001b[0m \u001b[0;34m=\u001b[0m \u001b[0mspacy\u001b[0m\u001b[0;34m.\u001b[0m\u001b[0mload\u001b[0m\u001b[0;34m(\u001b[0m\u001b[0;34m\"en\"\u001b[0m\u001b[0;34m)\u001b[0m\u001b[0;34m\u001b[0m\u001b[0;34m\u001b[0m\u001b[0m\n\u001b[0;32m----> 3\u001b[0;31m \u001b[0mnlp\u001b[0m\u001b[0;34m.\u001b[0m\u001b[0mvocab\u001b[0m\u001b[0;34m.\u001b[0m\u001b[0mvectors\u001b[0m\u001b[0;34m.\u001b[0m\u001b[0mfrom_glove\u001b[0m\u001b[0;34m(\u001b[0m\u001b[0;34m'./glove/spacyvector/vectors'\u001b[0m\u001b[0;34m)\u001b[0m\u001b[0;34m\u001b[0m\u001b[0;34m\u001b[0m\u001b[0m\n\u001b[0m\u001b[1;32m      4\u001b[0m \u001b[0mtokens\u001b[0m \u001b[0;34m=\u001b[0m \u001b[0mnlp\u001b[0m\u001b[0;34m(\u001b[0m\u001b[0;34m'INDIA PAKISTAN CHINA'\u001b[0m\u001b[0;34m)\u001b[0m\u001b[0;34m\u001b[0m\u001b[0;34m\u001b[0m\u001b[0m\n\u001b[1;32m      5\u001b[0m \u001b[0;34m\u001b[0m\u001b[0m\n",
      "\u001b[0;32mvectors.pyx\u001b[0m in \u001b[0;36mspacy.vectors.Vectors.from_glove\u001b[0;34m()\u001b[0m\n",
      "\u001b[0;31mValueError\u001b[0m: cannot reshape array of size 26449183 into shape (528983,50)"
     ]
    }
   ],
   "source": [
    "import spacy\n",
    "nlp = spacy.load(\"en\")\n",
    "nlp.vocab.vectors.from_glove('./glove/spacyvector/vectors')\n",
    "tokens = nlp('INDIA PAKISTAN CHINA')\n",
    "\n",
    "for token1 in tokens:\n",
    "    for token2 in tokens:\n",
    "        print(token1.text, token2.text, token1.similarity(token2))"
   ]
  },
  {
   "cell_type": "code",
   "execution_count": 1,
   "metadata": {},
   "outputs": [],
   "source": [
    "import spacy\n",
    "from sklearn.decomposition import PCA\n",
    "nlp = spacy.load(\"en\")\n",
    "animals = \"dog cat hamster lion tiger elephant cheetah monkey gorilla antelope rabbit mouse rat zoo home pet fluffy wild domesticated man queen\"\n",
    "animal_tokens = nlp(animals)\n",
    "animal_vectors = np.vstack([word.vector for word in animal_tokens if word.has_vector])\n",
    "pca = PCA(n_components=2)\n",
    "animal_vecs_transformed = pca.fit_transform(animal_vectors)\n",
    "animal_vecs_transformed = np.c_[animals.split(), animal_vecs_transformed]\n"
   ]
  },
  {
   "cell_type": "code",
   "execution_count": 2,
   "metadata": {},
   "outputs": [
    {
     "name": "stdout",
     "output_type": "stream",
     "text": [
      "[['dog' '-5.3383884' '-1.8036299']\n",
      " ['cat' '-4.7337523' '-1.7810915']\n",
      " ['hamster' '-4.158726' '12.460593']\n",
      " ['lion' '-4.818412' '6.526998']\n",
      " ['tiger' '-10.773494' '8.66147']\n",
      " ['elephant' '5.0273333' '7.052479']\n",
      " ['cheetah' '-4.4140644' '9.115354']\n",
      " ['monkey' '-5.6879363' '1.1447694']\n",
      " ['gorilla' '-7.755905' '-4.5805182']\n",
      " ['antelope' '2.1049476' '-8.478094']\n",
      " ['rabbit' '-6.270763' '-5.9856']\n",
      " ['mouse' '-10.863121' '-6.163093']\n",
      " ['rat' '0.60704803' '-7.363174']\n",
      " ['zoo' '-1.8872417' '-7.230035']\n",
      " ['home' '0.89732563' '2.1274207']\n",
      " ['pet' '6.5108094' '3.8537073']\n",
      " ['fluffy' '12.431287' '3.5994475']\n",
      " ['wild' '10.380728' '3.8971603']\n",
      " ['domesticated' '20.037094' '0.65590185']\n",
      " ['man' '0.4910174' '-5.4613843']\n",
      " ['queen' '8.214218' '-10.248676']]\n"
     ]
    }
   ],
   "source": [
    "print(animal_vecs_transformed)"
   ]
  },
  {
   "cell_type": "code",
   "execution_count": 5,
   "metadata": {},
   "outputs": [],
   "source": [
    "animal_tokens = nlp(animals)\n",
    "animal_vectors = np.vstack([w2v[word.text] for word in animal_tokens if word.has_vector])\n",
    "pca = PCA(n_components=2)\n",
    "animal_vecs_transformed = pca.fit_transform(animal_vectors)\n",
    "animal_vecs_transformed = np.c_[animals.split(), animal_vecs_transformed]"
   ]
  },
  {
   "cell_type": "code",
   "execution_count": 6,
   "metadata": {},
   "outputs": [
    {
     "name": "stdout",
     "output_type": "stream",
     "text": [
      "[['dog' '0.6136094960905633' '-0.8334105973047161']\n",
      " ['cat' '0.04036206657470974' '-0.83471081688339']\n",
      " ['hamster' '-1.6419962160679542' '-1.224668788884157']\n",
      " ['lion' '0.45296357392608955' '-0.16982604369685195']\n",
      " ['tiger' '0.6736395210309059' '0.9750204432287294']\n",
      " ['elephant' '-0.3822602209434946' '0.9867223113460212']\n",
      " ['cheetah' '-1.4687896541779752' '0.33676652654171224']\n",
      " ['monkey' '-0.7113176007923808' '-0.4922034630947023']\n",
      " ['gorilla' '-1.2031178939665579' '0.9716663540774058']\n",
      " ['antelope' '-1.2972324785336258' '2.1495943049908837']\n",
      " ['rabbit' '-0.9536715493691372' '-1.0795138098996542']\n",
      " ['mouse' '-1.0406875901375297' '-0.8808996269572705']\n",
      " ['rat' '-0.9885547587562197' '-0.16252981918391113']\n",
      " ['zoo' '1.0071033825140612' '3.2046527999021617']\n",
      " ['home' '3.7657377845135955' '0.728691863659625']\n",
      " ['pet' '-0.17669288060292682' '-0.23229142605211853']\n",
      " ['fluffy' '-1.2372998729313422' '-2.7110482144']\n",
      " ['wild' '0.4485502031574103' '0.4800705796371562']\n",
      " ['domesticated' '-2.1256744252430124' '1.0676022448436508']\n",
      " ['man' '3.2773140386139423' '-0.8067962935124854']\n",
      " ['queen' '2.948015075100875' '-1.4728885283580884']]\n"
     ]
    }
   ],
   "source": [
    "print(animal_vecs_transformed)"
   ]
  },
  {
   "cell_type": "code",
   "execution_count": null,
   "metadata": {},
   "outputs": [],
   "source": []
  }
 ],
 "metadata": {
  "kernelspec": {
   "display_name": "Python 3",
   "language": "python",
   "name": "python3"
  },
  "language_info": {
   "codemirror_mode": {
    "name": "ipython",
    "version": 3
   },
   "file_extension": ".py",
   "mimetype": "text/x-python",
   "name": "python",
   "nbconvert_exporter": "python",
   "pygments_lexer": "ipython3",
   "version": "3.7.1"
  }
 },
 "nbformat": 4,
 "nbformat_minor": 2
}
